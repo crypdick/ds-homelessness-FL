{
 "cells": [
  {
   "cell_type": "code",
   "execution_count": 33,
   "metadata": {
    "collapsed": true
   },
   "outputs": [],
   "source": [
    "import os\n",
    "import string\n",
    "import sys\n",
    "import csv"
   ]
  },
  {
   "cell_type": "code",
   "execution_count": 36,
   "metadata": {},
   "outputs": [
    {
     "name": "stdout",
     "output_type": "stream",
     "text": [
      "/\nh\no\nm\ne\n/\nc\nr\ny\np\nd\ni\nc\nk\n/\nA\np\np\ns\n/\nm\na\ns\nt\ne\nr\ns\n/\nd\nb\ns\n/\nd\ns\n-\nh\no\nm\ne\nl\ne\ns\ns\nn\ne\ns\ns\n-\nF\nL\n/\nd\na\nt\na\n/\nr\na\nw\n/\n1\n \nL\nA\nY\nO\nU\nT\n \nB\n \nC\nS\nV\n.\nc\ns\nv\n"
     ]
    }
   ],
   "source": [
    "PROJECT_PATH = '/home/crypdick/Apps/masters/dbs/ds-homelessness-FL'\n",
    "RAW_DATA_PATH = os.path.join(PROJECT_PATH, 'data', 'raw')\n",
    "# MODEL_PATH = os.path.join(PROJECT_PATH, 'data', 'model')\n",
    "os.chdir(PROJECT_PATH)\n",
    "\n",
    "# CSV_fnames = sorted(os.listdir(os.path.join(os.path.realpath('.'), RAW_DATA_PATH)))\n",
    "CSV_fnames = sorted([fname for fname in os.listdir(RAW_DATA_PATH) if fname.endswith('.csv')])\n",
    "CSV_full_dirs = [os.path.join(RAW_DATA_PATH, fname) for fname in CSV_fnames]\n",
    "\n",
    "# print(CSV_fnames)\n",
    "# print(CSV_full_dirs)\n",
    "\n",
    "temp_list = []\n",
    "temp_list.append(CSV_full_dirs[0])\n",
    "\n",
    "for csv_file in temp_list:\n",
    "    with open(csv_file, newline='') as csvfile:\n",
    "        reader = csv.reader(csv_file, delimiter=',')#, quotechar='|')\n",
    "        c = 1\n",
    "        while c < 20:\n",
    "            for row in reader:\n",
    "                print(', '.join(row))\n",
    "                c += 1\n"
   ]
  },
  {
   "cell_type": "code",
   "execution_count": null,
   "metadata": {},
   "outputs": [],
   "source": []
  }
 ],
 "metadata": {
  "kernelspec": {
   "display_name": "Python 2",
   "language": "python",
   "name": "python2"
  },
  "language_info": {
   "codemirror_mode": {
    "name": "ipython",
    "version": 2
   },
   "file_extension": ".py",
   "mimetype": "text/x-python",
   "name": "python",
   "nbconvert_exporter": "python",
   "pygments_lexer": "ipython2",
   "version": "2.7.6"
  }
 },
 "nbformat": 4,
 "nbformat_minor": 0
}
