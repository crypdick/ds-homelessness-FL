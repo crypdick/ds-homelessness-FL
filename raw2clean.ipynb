{
 "cells": [
  {
   "cell_type": "code",
   "execution_count": 7,
   "metadata": {
    "collapsed": true
   },
   "outputs": [],
   "source": [
    "import os\n",
    "import string\n",
    "import sys"
   ]
  },
  {
   "cell_type": "code",
   "execution_count": 19,
   "metadata": {},
   "outputs": [
    {
     "name": "stdout",
     "output_type": "stream",
     "text": [
      "['1 LAYOUT B CSV.csv', '2 LAYOUT B CSV.csv', '3 LAYOUT B CSV.csv', '4 LAYOUT B CSV.csv', '5 LAYOUT B CSV.csv', '6 LAYOUT B CSV.csv', '7 LAYOUT B CSV.csv', '8 LAYOUT B CSV.csv', '9 LAYOUT B CSV.csv']\n['/home/crypdick/Apps/masters/dbs/ds-homelessness-FL/data/raw/1 LAYOUT B CSV.csv', '/home/crypdick/Apps/masters/dbs/ds-homelessness-FL/data/raw/2 LAYOUT B CSV.csv', '/home/crypdick/Apps/masters/dbs/ds-homelessness-FL/data/raw/3 LAYOUT B CSV.csv', '/home/crypdick/Apps/masters/dbs/ds-homelessness-FL/data/raw/4 LAYOUT B CSV.csv', '/home/crypdick/Apps/masters/dbs/ds-homelessness-FL/data/raw/5 LAYOUT B CSV.csv', '/home/crypdick/Apps/masters/dbs/ds-homelessness-FL/data/raw/6 LAYOUT B CSV.csv', '/home/crypdick/Apps/masters/dbs/ds-homelessness-FL/data/raw/7 LAYOUT B CSV.csv', '/home/crypdick/Apps/masters/dbs/ds-homelessness-FL/data/raw/8 LAYOUT B CSV.csv', '/home/crypdick/Apps/masters/dbs/ds-homelessness-FL/data/raw/9 LAYOUT B CSV.csv']\n"
     ]
    }
   ],
   "source": [
    "PROJECT_PATH = '/home/crypdick/Apps/masters/dbs/ds-homelessness-FL'\n",
    "RAW_DATA_PATH = os.path.join(PROJECT_PATH, 'data', 'raw')\n",
    "# MODEL_PATH = os.path.join(PROJECT_PATH, 'data', 'model')\n",
    "os.chdir(PROJECT_PATH)\n",
    "\n",
    "CSV_name_list = sorted(os.listdir(os.path.join(os.path.realpath('.'), RAW_DATA_PATH)))\n",
    "CSV_full_dir = [os.path.join(RAW_DATA_PATH, fname) for fname in CSV_name_list]\n",
    "\n",
    "print(CSV_name_list)\n",
    "print(CSV_full_dir)\n"
   ]
  },
  {
   "cell_type": "code",
   "execution_count": null,
   "metadata": {},
   "outputs": [],
   "source": []
  }
 ],
 "metadata": {
  "kernelspec": {
   "display_name": "Python 2",
   "language": "python",
   "name": "python2"
  },
  "language_info": {
   "codemirror_mode": {
    "name": "ipython",
    "version": 2
   },
   "file_extension": ".py",
   "mimetype": "text/x-python",
   "name": "python",
   "nbconvert_exporter": "python",
   "pygments_lexer": "ipython2",
   "version": "2.7.6"
  }
 },
 "nbformat": 4,
 "nbformat_minor": 0
}
