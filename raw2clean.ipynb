{
 "cells": [
  {
   "cell_type": "code",
   "execution_count": 1,
   "metadata": {
    "collapsed": true
   },
   "outputs": [],
   "source": [
    "import os\n",
    "import string\n",
    "import sys\n",
    "import csv"
   ]
  },
  {
   "cell_type": "code",
   "execution_count": null,
   "metadata": {},
   "outputs": [],
   "source": [
    "PROJECT_PATH = '/home/crypdick/Apps/masters/dbs/ds-homelessness-FL'\n",
    "RAW_DATA_PATH = os.path.join(PROJECT_PATH, 'data', 'raw')\n",
    "# MODEL_PATH = os.path.join(PROJECT_PATH, 'data', 'model')\n",
    "os.chdir(PROJECT_PATH)\n",
    "\n",
    "# CSV_fnames = sorted(os.listdir(os.path.join(os.path.realpath('.'), RAW_DATA_PATH)))\n",
    "CSV_fnames = sorted([fname for fname in os.listdir(RAW_DATA_PATH) if fname.endswith('.csv')])\n",
    "CSV_full_dirs = [os.path.join(RAW_DATA_PATH, fname) for fname in CSV_fnames]\n",
    "\n",
    "# print(CSV_fnames)\n",
    "# print(CSV_full_dirs)\n",
    "\n",
    "temp_list = []\n",
    "temp_list.append(os.path.join(RAW_DATA_PATH, 'temp.csv'))\n",
    "\n"
   ]
  },
  {
   "cell_type": "markdown",
   "metadata": {},
   "source": [
    "test"
   ]
  },
  {
   "cell_type": "code",
   "execution_count": 11,
   "metadata": {},
   "outputs": [
    {
     "name": "stdout",
     "output_type": "stream",
     "text": [
      "['RELEASE DATE: 01/19/2000 ', 'RELEASE CODE: TIME SERVED ', 'SOID: 308163', '', '', '', '']\n['RELEASE DATE: 12/31/1999 ', 'RELEASE CODE: CASH BOND ', 'SOID: 451578', '', '', '', '']\n['RELEASE DATE: 01/01/2000 ', 'RELEASE CODE: SURETY BOND ', 'SOID: 417979', '', '', '', '']\n['RELEASE DATE: 01/04/2000 ', 'RELEASE CODE: COURT ORDER ', 'SOID: 451521', '', '', '', '']\n['RELEASE DATE: 12/30/1999 ', 'RELEASE CODE: SURETY BOND ', 'SOID: 451506', '', '', '', '']\n['RELEASE DATE: 12/31/1999 ', 'RELEASE CODE: CASH BOND ', 'SOID: 320810', '', '', '', '']\n['RELEASE DATE: 04/17/2000 ', 'RELEASE CODE: TIME SERVED ', 'SOID: 170066', '', '', '', '']\n['RELEASE DATE: 12/29/1999 ', 'RELEASE CODE: SURETY BOND ', 'SOID: 451483', '', '', '', '']\n['RELEASE DATE: 12/29/1999 ', 'RELEASE CODE: SURETY BOND ', 'SOID: 447710', '', '', '', '']\n['RELEASE DATE: 01/13/2000 ', 'RELEASE CODE: TIME SERVED ', 'SOID: 185272', '', '', '', '']\n['RELEASE DATE: 04/17/2000 ', 'RELEASE CODE: COURT ORDER ', 'SOID: 431930', '', '', '', '']\n['RELEASE DATE: 01/08/2000 ', 'RELEASE CODE: TRANS OUTSIDE INST ', 'SOID: 414421', '', '', '', '']\n['RELEASE DATE: 12/31/1999 ', 'RELEASE CODE: SURETY BOND ', 'SOID: 99340', '', '', '', '']\n['RELEASE DATE: 01/07/2000 ', 'RELEASE CODE: SURETY BOND ', 'SOID: 217098', '', '', '', '']\n['RELEASE DATE: 12/29/1999 ', 'RELEASE CODE: CASH BOND ', 'SOID: 393807', '', '', '', '']\n['RELEASE DATE: 12/28/1999 ', 'RELEASE CODE: SURETY BOND ', 'SOID: 442427', '', '', '', '']\n['RELEASE DATE: 12/28/1999 ', 'RELEASE CODE: SURETY BOND ', 'SOID: 342661', '', '', '', '']\n"
     ]
    }
   ],
   "source": [
    "for csv_file in temp_list:\n",
    "    with open(csv_file, 'r', newline='') as open_file:\n",
    "        with open('joined_list.csv','w') as joined_csv:\n",
    "            reader = csv.reader(open_file, delimiter=',', quotechar='\"')\n",
    "            writer = csv.writer(joined_csv)\n",
    "            joined_row = []\n",
    "            for i, row in enumerate(reader):\n",
    "                if 'RELEASE DATE' in row[0]:\n",
    "                    joined_row.extend(row)\n",
    "                    print(joined_row)\n",
    "                    writer.writerow(joined_row)\n",
    "                    \n",
    "                    joined_row = []\n",
    "                    \n",
    "                \n",
    "            # if release, append, write row, then clear true and release\n",
    "            # else, append, dont write\n",
    "            \n",
    "            # print(', '.join(row))\n",
    "            \n",
    "            \n",
    "            "
   ]
  },
  {
   "cell_type": "code",
   "execution_count": null,
   "metadata": {},
   "outputs": [],
   "source": []
  }
 ],
 "metadata": {
  "kernelspec": {
   "display_name": "Python 2",
   "language": "python",
   "name": "python2"
  },
  "language_info": {
   "codemirror_mode": {
    "name": "ipython",
    "version": 2
   },
   "file_extension": ".py",
   "mimetype": "text/x-python",
   "name": "python",
   "nbconvert_exporter": "python",
   "pygments_lexer": "ipython2",
   "version": "2.7.6"
  }
 },
 "nbformat": 4,
 "nbformat_minor": 0
}
