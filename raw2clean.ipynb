{
 "cells": [
  {
   "cell_type": "code",
   "execution_count": 1,
   "metadata": {
    "collapsed": true
   },
   "outputs": [],
   "source": [
    "import os\n",
    "import csv"
   ]
  },
  {
   "cell_type": "code",
   "execution_count": 2,
   "metadata": {},
   "outputs": [],
   "source": [
    "PROJECT_PATH = '/home/crypdick/Apps/masters/dbs/ds-homelessness-FL'\n",
    "RAW_DATA_PATH = os.path.join(PROJECT_PATH, 'data', 'raw')\n",
    "# MODEL_PATH = os.path.join(PROJECT_PATH, 'data', 'model')\n",
    "os.chdir(PROJECT_PATH)\n",
    "\n",
    "# CSV_fnames = sorted(os.listdir(os.path.join(os.path.realpath('.'), RAW_DATA_PATH)))\n",
    "CSV_fnames = sorted([fname for fname in os.listdir(RAW_DATA_PATH) if fname.endswith('.csv')])\n",
    "CSV_full_dirs = [os.path.join(RAW_DATA_PATH, fname) for fname in CSV_fnames]\n",
    "\n",
    "# print(CSV_fnames)\n",
    "# print(CSV_full_dirs)\n",
    "# \n",
    "# temp_list = []\n",
    "# temp_list.append(os.path.join(RAW_DATA_PATH, 'temp.csv'))\n",
    "\n"
   ]
  },
  {
   "cell_type": "markdown",
   "metadata": {},
   "source": [
    "test"
   ]
  },
  {
   "cell_type": "code",
   "execution_count": 11,
   "metadata": {
    "collapsed": true
   },
   "outputs": [],
   "source": [
    "MIN_ROW_LEN = 35\n",
    "N_LEADING_COLS = 8  # all entries have this many leading cols\n",
    "N_TRAILING_COLS = -14  #13\n",
    "for csv_file in CSV_full_dirs:\n",
    "    with open(csv_file, 'r', newline='') as open_file:\n",
    "        with open('my_bookings_cleaned.csv','w') as my_bookings_cleaned_csv:\n",
    "            with open('my_addl_charges.csv','w') as my_addl_charges_csv:\n",
    "                reader = csv.reader(open_file, delimiter=',', quotechar='\"')\n",
    "                writer = csv.writer(my_bookings_cleaned_csv)\n",
    "                addl_writer = csv.writer(my_addl_charges_csv)\n",
    "                \n",
    "                joined_row = []\n",
    "                for i, row in enumerate(reader):\n",
    "                    if 'RELEASE DATE' not in row[0]:  \n",
    "                        joined_row.extend(row)  # have not reached end of person entry. continue extending joined row.\n",
    "                    else: #  we found last row for single person\n",
    "                        joined_row.extend(row)\n",
    "                        #print(joined_row)\n",
    "                        \n",
    "                        if len(joined_row) < MIN_ROW_LEN:\n",
    "                            raise Exception(\"Not expecting rows with less than {} columns\".format(MIN_ROW_LEN))\n",
    "                        \n",
    "                        joined_row = [field.strip() for field in joined_row]  # clean out random trailing spaces\n",
    "                        \n",
    "                        # joined row parsing\n",
    "                        \n",
    "                        # parse lead\n",
    "                        name = joined_row[0]\n",
    "                        booking_n = joined_row[1]\n",
    "                        agency = joined_row[4]\n",
    "                        ABN = joined_row[5]\n",
    "                        race_sex_eth_DOB = joined_row[7]\n",
    "                        try:\n",
    "                            race, sex, ethnicity, DOB = race_sex_eth_DOB.split(\" / \")\n",
    "                        except ValueError:\n",
    "                            race, sex, ethnicity = race_sex_eth_DOB.split(\" / \")\n",
    "                            DOB = \"NaT\"\n",
    "                            #print(\"not enough values to unpack in str {} \\n from joined row {}\".format(race_sex_eth_DOB, joined_row))\n",
    "                        \n",
    "                        # splitting crimes\n",
    "                        crimes_vec = joined_row[N_LEADING_COLS:N_TRAILING_COLS]\n",
    "                        full_crimes_list = []\n",
    "                        while len(crimes_vec) >= 1:\n",
    "                            single_crime = crimes_vec[:4]  # each loop grab first 4 cols\n",
    "                            if single_crime[0].strip() != '':  # make sure crime vec isn't empty string\n",
    "                                full_crimes_list.append(single_crime)\n",
    "                            crimes_vec = crimes_vec[7:]  # indexes 4:7 are always blank. beyond 7 are additional crimes.\n",
    "                            \n",
    "                        # parse end\n",
    "                        trailing_vec = joined_row[N_TRAILING_COLS:]\n",
    "                        address = \"{},{}\".format(trailing_vec[0], trailing_vec[1])\n",
    "                        address = address[9:]   # strip \"ADDRESS: \"\n",
    "                        place_of_birth = trailing_vec[2]\n",
    "                        place_of_birth = place_of_birth[5:]  # strip \"POB: \"\n",
    "                        releaseDate = trailing_vec[7]\n",
    "                        releaseDate = releaseDate[14:]  # strip \"RELEASE DATE: \"\n",
    "                        releaseCode = trailing_vec[8]\n",
    "                        releaseCode = releaseCode[14:]    # strip \"RELEASE CODE: \"\n",
    "                        SOID = trailing_vec[9]\n",
    "                        SOID = SOID[6:]    # strip \"SOID: \"\n",
    "                        #print(address,place_of_birth,releaseDate,releaseCode,SOID)\n",
    "                        \n",
    "                        \n",
    "                        # avoid index errors if full_crimes_list is empty\n",
    "                        if not full_crimes_list:  # returns False if empty\n",
    "                            full_crimes_list.append(['','','',''])  # insert placeholders\n",
    "                \n",
    "                        \n",
    "                        # storing\n",
    "                        clean_booking_vec = [name, booking_n, agency, ABN, race, sex, ethnicity, DOB] + full_crimes_list[0] + [address,place_of_birth,releaseDate,releaseCode,SOID]\n",
    "                        \n",
    "                        #print(clean_booking_vec)\n",
    "                        writer.writerow(clean_booking_vec)\n",
    "                        \n",
    "                        # if addl crimes, store them in separate file\n",
    "                        if len(full_crimes_list) > 1:\n",
    "                            addl_charges = full_crimes_list[1:]\n",
    "                            for charge in addl_charges:\n",
    "                                clean_addl_booking = [booking_n] + charge\n",
    "                                addl_writer.writerow(clean_addl_booking)\n",
    "                        \n",
    "                        # clear joined row for next person\n",
    "                        joined_row = []\n",
    "\n",
    "                        \n",
    "                \n",
    "            \n",
    "            \n",
    "            "
   ]
  },
  {
   "cell_type": "code",
   "execution_count": null,
   "metadata": {},
   "outputs": [],
   "source": []
  }
 ],
 "metadata": {
  "kernelspec": {
   "display_name": "Python 2",
   "language": "python",
   "name": "python2"
  },
  "language_info": {
   "codemirror_mode": {
    "name": "ipython",
    "version": 2
   },
   "file_extension": ".py",
   "mimetype": "text/x-python",
   "name": "python",
   "nbconvert_exporter": "python",
   "pygments_lexer": "ipython2",
   "version": "2.7.6"
  }
 },
 "nbformat": 4,
 "nbformat_minor": 0
}
